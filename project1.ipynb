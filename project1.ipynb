{
 "cells": [
  {
   "cell_type": "code",
   "execution_count": 4,
   "metadata": {},
   "outputs": [],
   "source": [
    "import pandas as pd"
   ]
  },
  {
   "cell_type": "code",
   "execution_count": 7,
   "metadata": {},
   "outputs": [],
   "source": [
    "# Store filepath in a variable\n",
    "legalization_data = \"Resources/Marijuana_Legalization.csv\"\n",
    "fbi_violent_crime = \"Resources/estimated_crimes_1979_2020.csv\"\n",
    "# accidental_drug_od = \"Resources\\Accidental_Drug_Related_Deaths_2012-2021.csv\""
   ]
  },
  {
   "cell_type": "code",
   "execution_count": 40,
   "metadata": {},
   "outputs": [],
   "source": [
    "# Read our Data file with the pandas library\n",
    "# Not every CSV requires an encoding, but be aware this can come up\n",
    "legal_data_df = pd.read_csv(legalization_data)\n",
    "fbi_violent_crime_df = pd.read_csv(fbi_violent_crime)\n",
    "# accidental_drug_df = pd.read_csv(accidental_drug_od)\n",
    "\n",
    "fbi_data_df = fbi_violent_crime_df.dropna(subset=['state_name'])\n",
    "\n",
    "fbi_violent_merge = pd.merge(fbi_violent_crime_df, legal_data_df, how=\"inner\", left_on=[\"state_name\"], right_on=[\"State\"])\n",
    "fbi_violent_merge = fbi_violent_merge.drop(columns = [\"State\", \"caveats\"])\n",
    "fbi_violent_merge[\"Year legalized (Med)\"] = fbi_violent_merge[\"Year legalized (Med)\"].fillna(0)\n",
    "fbi_violent_merge[\"Year legalized (Rec)\"] = fbi_violent_merge[\"Year legalized (Rec)\"].fillna(0)\n",
    "fbi_violent_merge[\"Year legalized (Med)\"] = fbi_violent_merge[\"Year legalized (Med)\"].astype(int)\n",
    "fbi_violent_merge[\"Year legalized (Rec)\"] = fbi_violent_merge[\"Year legalized (Rec)\"].astype(int)\n",
    "fbi_violent_merge\n",
    "fbi_violent_merge.to_csv(\"420.csv\")\n",
    "\n"
   ]
  }
 ],
 "metadata": {
  "kernelspec": {
   "display_name": "Python 3.10.6 ('PythonData')",
   "language": "python",
   "name": "python3"
  },
  "language_info": {
   "codemirror_mode": {
    "name": "ipython",
    "version": 3
   },
   "file_extension": ".py",
   "mimetype": "text/x-python",
   "name": "python",
   "nbconvert_exporter": "python",
   "pygments_lexer": "ipython3",
   "version": "3.10.6"
  },
  "orig_nbformat": 4,
  "vscode": {
   "interpreter": {
    "hash": "65828ecfeb4922456b44c2836fd552a897d62f9566f9c5a4379d0ae14486ec87"
   }
  }
 },
 "nbformat": 4,
 "nbformat_minor": 2
}
