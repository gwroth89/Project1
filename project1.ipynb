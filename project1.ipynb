{
 "cells": [
  {
   "cell_type": "code",
   "execution_count": 2,
   "metadata": {},
   "outputs": [],
   "source": [
    "import pandas as pd"
   ]
  },
  {
   "cell_type": "code",
   "execution_count": 3,
   "metadata": {},
   "outputs": [],
   "source": [
    "# Store filepath in a variable\n",
    "legalization_data = \"Resources/Marijuana_Legalization.csv\"\n",
    "fbi_violent_crime = \"Resources/estimated_crimes_1979_2020.csv\""
   ]
  },
  {
   "cell_type": "code",
   "execution_count": 4,
   "metadata": {},
   "outputs": [],
   "source": [
    "# Read our Data file with the pandas library\n",
    "legal_data_df = pd.read_csv(legalization_data)\n",
    "fbi_violent_crime_df = pd.read_csv(fbi_violent_crime)\n",
    "\n",
    "fbi_data_df = fbi_violent_crime_df.dropna(subset=['state_name'])\n",
    "\n",
    "# Inner join to align legalization data with crime data\n",
    "fbi_violent_merge = pd.merge(fbi_violent_crime_df, legal_data_df, how=\"inner\", left_on=[\"state_name\"], right_on=[\"State\"])\n",
    "fbi_violent_merge = fbi_violent_merge.drop(columns = [\"State\", \"caveats\"])\n",
    "\n",
    "# replacing null values with zeroes\n",
    "fbi_violent_merge[\"Year legalized (Med)\"] = fbi_violent_merge[\"Year legalized (Med)\"].fillna(0)\n",
    "fbi_violent_merge[\"Year legalized (Rec)\"] = fbi_violent_merge[\"Year legalized (Rec)\"].fillna(0)\n",
    "\n",
    "# changing type to integer\n",
    "fbi_violent_merge[\"Year legalized (Med)\"] = fbi_violent_merge[\"Year legalized (Med)\"].astype(int)\n",
    "fbi_violent_merge[\"Year legalized (Rec)\"] = fbi_violent_merge[\"Year legalized (Rec)\"].astype(int)\n",
    "\n",
    "\n",
    "\n",
    "\n"
   ]
  },
  {
   "cell_type": "code",
   "execution_count": null,
   "metadata": {},
   "outputs": [],
   "source": [
    "#loop to populate corrected legal status by year\n",
    "true_legality = []\n",
    "\n",
    "for row in fbi_violent_crime_df.iterrows():\n",
    "    if row[1]['Year legalized (Rec)'] == 0 and row[1]['Year legalized (Med)'] == 0:\n",
    "        true_legality.append('Illegal')\n",
    "    elif row[1]['year'] >= row[1]['Year legalized (Rec)'] and row[1]['Year legalized (Rec)'] != 0:\n",
    "        true_legality.append('Recreational')\n",
    "    elif row[1]['year'] >= row[1]['Year legalized (Med)'] and row[1]['Year legalized (Med)'] != 0:\n",
    "        true_legality.append('Medical')\n",
    "    else:\n",
    "        true_legality.append('Illegal')\n",
    "\n",
    "fbi_violent_crime_df['Adj Legal Status'] = true_legality"
   ]
  },
  {
   "cell_type": "code",
   "execution_count": null,
   "metadata": {},
   "outputs": [],
   "source": [
    "fbi_violent_merge\n",
    "fbi_violent_merge.to_csv(\"420.csv\", index=False)"
   ]
  }
 ],
 "metadata": {
  "kernelspec": {
   "display_name": "Python 3.6.13 ('pythondata')",
   "language": "python",
   "name": "python3"
  },
  "language_info": {
   "codemirror_mode": {
    "name": "ipython",
    "version": 3
   },
   "file_extension": ".py",
   "mimetype": "text/x-python",
   "name": "python",
   "nbconvert_exporter": "python",
   "pygments_lexer": "ipython3",
   "version": "3.6.13"
  },
  "orig_nbformat": 4,
  "vscode": {
   "interpreter": {
    "hash": "1047ab4ad357a7ec983526713b886bbbb008af31737c55cac22fdd0fb74394e6"
   }
  }
 },
 "nbformat": 4,
 "nbformat_minor": 2
}
